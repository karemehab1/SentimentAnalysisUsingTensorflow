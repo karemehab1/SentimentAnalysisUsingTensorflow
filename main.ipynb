{
 "cells": [
  {
   "cell_type": "code",
   "execution_count": 1,
   "metadata": {},
   "outputs": [
    {
     "name": "stdout",
     "output_type": "stream",
     "text": [
      "Epoch 1/10\n"
     ]
    },
    {
     "name": "stderr",
     "output_type": "stream",
     "text": [
      "c:\\Python311\\Lib\\site-packages\\keras\\src\\layers\\core\\embedding.py:90: UserWarning: Argument `input_length` is deprecated. Just remove it.\n",
      "  warnings.warn(\n"
     ]
    },
    {
     "name": "stdout",
     "output_type": "stream",
     "text": [
      "1/1 - 3s - 3s/step - accuracy: 0.3750 - loss: 0.6934\n",
      "Epoch 2/10\n",
      "1/1 - 0s - 55ms/step - accuracy: 0.5000 - loss: 0.6930\n",
      "Epoch 3/10\n",
      "1/1 - 0s - 37ms/step - accuracy: 0.6250 - loss: 0.6924\n",
      "Epoch 4/10\n",
      "1/1 - 0s - 48ms/step - accuracy: 0.8750 - loss: 0.6920\n",
      "Epoch 5/10\n",
      "1/1 - 0s - 42ms/step - accuracy: 0.8750 - loss: 0.6917\n",
      "Epoch 6/10\n",
      "1/1 - 0s - 40ms/step - accuracy: 0.7500 - loss: 0.6913\n",
      "Epoch 7/10\n",
      "1/1 - 0s - 41ms/step - accuracy: 0.8750 - loss: 0.6905\n",
      "Epoch 8/10\n",
      "1/1 - 0s - 40ms/step - accuracy: 0.7500 - loss: 0.6903\n",
      "Epoch 9/10\n",
      "1/1 - 0s - 40ms/step - accuracy: 0.8750 - loss: 0.6895\n",
      "Epoch 10/10\n",
      "1/1 - 0s - 40ms/step - accuracy: 1.0000 - loss: 0.6887\n"
     ]
    },
    {
     "data": {
      "text/plain": [
       "<keras.src.callbacks.history.History at 0x291c81de110>"
      ]
     },
     "execution_count": 1,
     "metadata": {},
     "output_type": "execute_result"
    }
   ],
   "source": [
    "import tensorflow as tf\n",
    "from tensorflow.keras.preprocessing.text import Tokenizer\n",
    "from tensorflow.keras.preprocessing.sequence import pad_sequences\n",
    "from tensorflow.keras.models import Sequential\n",
    "from tensorflow.keras.layers import Embedding, LSTM, Dense, Dropout\n",
    "import numpy as np\n",
    "\n",
    "# Sample data\n",
    "sentences = [\n",
    "    \"I love this product\",\n",
    "    \"This is the worst experience I've ever had\",\n",
    "    \"Absolutely fantastic!\",\n",
    "    \"Not good at all\",\n",
    "    \"I am very happy with the service\",\n",
    "    \"I hate it\",\n",
    "    \"it is Awful!\",\n",
    "    'i like Icecream'\n",
    "]\n",
    "\n",
    "\n",
    "labels = [1, 0, 1, 0, 1, 0 , 0 ,1 ]\n",
    "\n",
    "\n",
    "tokenizer = Tokenizer(num_words=10000, oov_token=\"<OOV>\")\n",
    "tokenizer.fit_on_texts(sentences)\n",
    "word_index = tokenizer.word_index\n",
    "\n",
    "\n",
    "sequences = tokenizer.texts_to_sequences(sentences)\n",
    "\n",
    "\n",
    "padded_sequences = pad_sequences(sequences, padding='post', maxlen=10)\n",
    "\n",
    "\n",
    "model = Sequential([\n",
    "    Embedding(input_dim=10000, output_dim=16, input_length=10),\n",
    "    LSTM(64, return_sequences=True),\n",
    "    Dropout(0.2),\n",
    "    LSTM(32),\n",
    "    Dense(24, activation='relu'),\n",
    "    Dense(1, activation='sigmoid')\n",
    "])\n",
    "\n",
    "\n",
    "model.compile(loss='binary_crossentropy', optimizer='adam', metrics=['accuracy'])\n",
    "\n",
    "model.fit(padded_sequences, np.array(labels), epochs=10, verbose=2)\n",
    "\n"
   ]
  },
  {
   "cell_type": "markdown",
   "metadata": {},
   "source": [
    "Predicting the sentiment"
   ]
  },
  {
   "cell_type": "code",
   "execution_count": 2,
   "metadata": {},
   "outputs": [
    {
     "name": "stdout",
     "output_type": "stream",
     "text": [
      "\u001b[1m1/1\u001b[0m \u001b[32m━━━━━━━━━━━━━━━━━━━━\u001b[0m\u001b[37m\u001b[0m \u001b[1m0s\u001b[0m 193ms/step\n",
      "Positive\n"
     ]
    }
   ],
   "source": [
    "# use words from our corpus\n",
    "test_sentence = [\"I like coffee\"]\n",
    "test_sequence = tokenizer.texts_to_sequences(test_sentence)\n",
    "test_padded = pad_sequences(test_sequence, padding='post', maxlen=10)\n",
    "\n",
    "prediction = model.predict(test_padded)\n",
    "print(\"Positive\" if prediction[0] > 0.5 else \"Negative\")"
   ]
  }
 ],
 "metadata": {
  "kernelspec": {
   "display_name": "Python 3",
   "language": "python",
   "name": "python3"
  },
  "language_info": {
   "codemirror_mode": {
    "name": "ipython",
    "version": 3
   },
   "file_extension": ".py",
   "mimetype": "text/x-python",
   "name": "python",
   "nbconvert_exporter": "python",
   "pygments_lexer": "ipython3",
   "version": "3.11.0"
  }
 },
 "nbformat": 4,
 "nbformat_minor": 2
}
